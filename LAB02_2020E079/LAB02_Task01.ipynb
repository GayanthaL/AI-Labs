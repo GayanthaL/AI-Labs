{
  "nbformat": 4,
  "nbformat_minor": 0,
  "metadata": {
    "colab": {
      "provenance": []
    },
    "kernelspec": {
      "name": "python3",
      "display_name": "Python 3"
    },
    "language_info": {
      "name": "python"
    }
  },
  "cells": [
    {
      "cell_type": "code",
      "execution_count": null,
      "metadata": {
        "colab": {
          "base_uri": "https://localhost:8080/"
        },
        "id": "zxbtbvQu-hHG",
        "outputId": "df84eeda-5ac4-4129-d7f5-ba805b806594"
      },
      "outputs": [
        {
          "output_type": "stream",
          "name": "stdout",
          "text": [
            "Solving: READ + WRITE = SKILL\n",
            "Solution: {'I': 2, 'D': 1, 'S': 5, 'W': 4, 'T': 3, 'E': 9, 'K': 7, 'L': 0, 'A': 6, 'R': 8}\n",
            "Solving: FORTY + TEN + TEN = SIXTY\n",
            "Solution: {'N': 0, 'I': 1, 'O': 9, 'S': 3, 'Y': 6, 'R': 7, 'E': 5, 'T': 8, 'F': 2, 'X': 4}\n"
          ]
        }
      ],
      "source": [
        "from itertools import permutations\n",
        "\n",
        "def solve_crypt_arithmetic(equation):\n",
        "    \"\"\"\n",
        "    Solve a crypt-arithmetic puzzle.\n",
        "\n",
        "    :param equation: A string representing the puzzle (e.g., \"SEND + MORE = MONEY\").\n",
        "    :return: Solution as a dictionary or None if no solution exists.\n",
        "    \"\"\"\n",
        "    # Remove spaces and split the equation\n",
        "    equation = equation.replace(\" \", \"\")\n",
        "    left, right = equation.split(\"=\")\n",
        "    left_parts = left.split(\"+\")\n",
        "\n",
        "    # Extract unique letters\n",
        "    unique_letters = set(\"\".join(left_parts) + right)\n",
        "    if len(unique_letters) > 10:\n",
        "        raise ValueError(\"Too many unique letters. Maximum is 10.\")\n",
        "\n",
        "    # Generate permutations of digits\n",
        "    for perm in permutations(range(10), len(unique_letters)):\n",
        "        # Map letters to digits\n",
        "        mapping = dict(zip(unique_letters, perm))\n",
        "\n",
        "        # Ensure no leading digit is zero\n",
        "        if any(mapping[word[0]] == 0 for word in [*left_parts, right]):\n",
        "            continue\n",
        "\n",
        "        # Substitute letters with digits in the equation\n",
        "        left_nums = [int(\"\".join(str(mapping[char]) for char in word)) for word in left_parts]\n",
        "        right_num = int(\"\".join(str(mapping[char]) for char in right))\n",
        "\n",
        "        # Check if the equation holds true\n",
        "        if sum(left_nums) == right_num:\n",
        "            return mapping\n",
        "\n",
        "    return None\n",
        "\n",
        "# Test the function with examples\n",
        "examples = [\n",
        "    \"READ + WRITE = SKILL\",\n",
        "    \"FORTY + TEN + TEN = SIXTY\",\n",
        "]\n",
        "\n",
        "for example in examples:\n",
        "    print(f\"Solving: {example}\")\n",
        "    solution = solve_crypt_arithmetic(example)\n",
        "    if solution:\n",
        "        print(\"Solution:\", solution)\n",
        "    else:\n",
        "        print(\"No solution found.\")\n"
      ]
    },
    {
      "cell_type": "code",
      "source": [
        "def main():\n",
        "    print(\"Welcome to the Crypt-Arithmetic Solver!\")\n",
        "    print(\"Enter your crypt-arithmetic puzzle in the format: SEND + MORE = MONEY\")\n",
        "\n",
        "    # Get user input for the equation\n",
        "    equation = input(\"Enter your crypt-arithmetic puzzle: \").strip()\n",
        "\n",
        "    try:\n",
        "        # Solve the puzzle\n",
        "        solution = solve_crypt_arithmetic(equation)\n",
        "\n",
        "        # Display the solution\n",
        "        if solution:\n",
        "            print(\"Solution found!\")\n",
        "            for letter, digit in sorted(solution.items()):\n",
        "                print(f\"{letter} = {digit}\")\n",
        "        else:\n",
        "            print(\"No solution exists for the given puzzle.\")\n",
        "    except ValueError as e:\n",
        "        print(f\"Error: {e}\")\n",
        "\n",
        "# Entry point for user interaction\n",
        "if __name__ == \"__main__\":\n",
        "    main()\n"
      ],
      "metadata": {
        "colab": {
          "base_uri": "https://localhost:8080/"
        },
        "id": "cr8O5IFQAgHV",
        "outputId": "93f13065-045a-47c1-fabb-20d6a15ba2cc"
      },
      "execution_count": null,
      "outputs": [
        {
          "output_type": "stream",
          "name": "stdout",
          "text": [
            "Welcome to the Crypt-Arithmetic Solver!\n",
            "Enter your crypt-arithmetic puzzle in the format: SEND + MORE = MONEY\n",
            "Enter your crypt-arithmetic puzzle: DOG + CAT = PET\n",
            "Solution found!\n",
            "A = 5\n",
            "C = 1\n",
            "D = 3\n",
            "E = 7\n",
            "G = 0\n",
            "O = 2\n",
            "P = 4\n",
            "T = 6\n"
          ]
        }
      ]
    }
  ]
}