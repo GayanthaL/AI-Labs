{
  "nbformat": 4,
  "nbformat_minor": 0,
  "metadata": {
    "colab": {
      "provenance": []
    },
    "kernelspec": {
      "name": "python3",
      "display_name": "Python 3"
    },
    "language_info": {
      "name": "python"
    }
  },
  "cells": [
    {
      "cell_type": "code",
      "source": [
        "!pip install fuzzywuzzy"
      ],
      "metadata": {
        "colab": {
          "base_uri": "https://localhost:8080/"
        },
        "id": "wbKm4S1HcQdp",
        "outputId": "9ed008cb-e569-4076-92dd-e6ba5497ab97"
      },
      "execution_count": 37,
      "outputs": [
        {
          "output_type": "stream",
          "name": "stdout",
          "text": [
            "Requirement already satisfied: fuzzywuzzy in /usr/local/lib/python3.10/dist-packages (0.18.0)\n"
          ]
        }
      ]
    },
    {
      "cell_type": "code",
      "source": [
        "# import the spell check module\n",
        "from spellcheck import SpellCheck\n",
        "\n",
        "# create an object\n",
        "spell_check = SpellCheck('words.txt')\n",
        "\n",
        "# set the string\n",
        "string_to_be_checked = \"wid erea\"\n",
        "spell_check.check(string_to_be_checked)\n",
        "\n",
        "# print suggestions and correction\n",
        "print (spell_check.suggestions())\n",
        "print (spell_check.correct())"
      ],
      "metadata": {
        "colab": {
          "base_uri": "https://localhost:8080/"
        },
        "id": "DkxOg7wUc5Pe",
        "outputId": "74071e48-0355-4b69-9c42-fa1ba11f6be8"
      },
      "execution_count": 38,
      "outputs": [
        {
          "output_type": "stream",
          "name": "stdout",
          "text": [
            "['wide']\n",
            "wide erea\n"
          ]
        }
      ]
    },
    {
      "cell_type": "code",
      "source": [
        "# Import the spell check module (assuming the CustomizedSpellCheck class is in spellcheck.py)\n",
        "from customizedspellcheck import CustomizedSpellCheck\n",
        "\n",
        "# Create an object of CustomizedSpellCheck with the word dictionary\n",
        "spell_checker = CustomizedSpellCheck('words.txt')\n",
        "\n",
        "# Set the string to be checked\n",
        "string_to_be_checked = \"gld narow\"\n",
        "spell_checker.check(string_to_be_checked)\n",
        "\n",
        "# Get suggestions using the custom heuristic\n",
        "custom_suggestions = spell_checker.custom_suggestions()\n",
        "\n",
        "# Print the results\n",
        "print(f\"Input: '{string_to_be_checked}'\")\n",
        "print(f\"Custom Suggestions: {custom_suggestions}\")\n",
        "\n",
        "# Implement custom heuristic-based correction\n",
        "corrected_words = []\n",
        "for word, suggestion in zip(string_to_be_checked.split(), custom_suggestions):\n",
        "    corrected_word = suggestion[0] if suggestion else word  # Use the first suggestion or keep the original word\n",
        "    corrected_words.append(corrected_word)\n",
        "\n",
        "corrected_string = ' '.join(corrected_words)\n",
        "print(f\"Custom Heuristic Correction: {corrected_string}\")"
      ],
      "metadata": {
        "colab": {
          "base_uri": "https://localhost:8080/"
        },
        "id": "ZdfrjvXZr6ze",
        "outputId": "0d26b9c4-7021-4555-ede8-818db8c5f504"
      },
      "execution_count": 41,
      "outputs": [
        {
          "output_type": "stream",
          "name": "stdout",
          "text": [
            "Input: 'gld narow'\n",
            "Custom Suggestions: [['glad', 'wide', 'light'], ['narrow', 'area', 'wide']]\n",
            "Custom Heuristic Correction: glad narrow\n"
          ]
        }
      ]
    },
    {
      "cell_type": "code",
      "source": [
        "# Import the spell check module for FuzzyWuzzy\n",
        "from spellcheck import SpellCheck\n",
        "\n",
        "# Import the customized spell check module\n",
        "from customizedspellcheck import CustomizedSpellCheck\n",
        "\n",
        "# Create objects for both spell checkers\n",
        "fuzzy_spell_check = SpellCheck('words.txt')\n",
        "custom_spell_checker = CustomizedSpellCheck('words.txt')\n",
        "\n",
        "# List of sentences to check\n",
        "sentences_to_check = [\n",
        "    \"The street is wde and busy.\",\n",
        "    \"The path is narow and leads to the park.\",\n",
        "    \"The open aria is filled with flowers.\",\n",
        "    \"The room is so laight and cheerful.\",\n",
        "    \"She was gld to see her friends.\"\n",
        "]\n",
        "\n",
        "# Process each sentence\n",
        "for sentence in sentences_to_check:\n",
        "    # FuzzyWuzzy Spell Check\n",
        "    fuzzy_spell_check.check(sentence)\n",
        "    fuzzy_suggestions = fuzzy_spell_check.suggestions()\n",
        "\n",
        "    # Create the corrected sentence using FuzzyWuzzy suggestions\n",
        "    fuzzy_corrected = sentence  # Default to the original sentence\n",
        "    if fuzzy_suggestions:\n",
        "        for word in fuzzy_suggestions:\n",
        "            fuzzy_corrected = fuzzy_corrected.replace(word[0], word[1])  # Replace with the first suggestion\n",
        "\n",
        "    # Custom Heuristic Spell Check\n",
        "    custom_spell_checker.check(sentence)\n",
        "    custom_suggestions = custom_spell_checker.custom_suggestions()\n",
        "\n",
        "    # Prepare Custom Heuristic Correction with preserved spaces\n",
        "    corrected_words = []\n",
        "    sentence_words = sentence.split()\n",
        "\n",
        "    for i, word in enumerate(sentence_words):\n",
        "        if i < len(custom_suggestions):\n",
        "            suggestion = custom_suggestions[i]  # Get the suggestions for the current word\n",
        "            corrected_word = suggestion[0] if suggestion else word  # Use the first suggestion or keep the original word\n",
        "        else:\n",
        "            corrected_word = word  # If no suggestion, keep the original word\n",
        "        corrected_words.append(corrected_word)\n",
        "\n",
        "    corrected_string = ' '.join(corrected_words)  # Combine words back into a single string\n",
        "\n",
        "    # Display custom heuristic suggestions with correct spaces\n",
        "    custom_suggestion_display = []\n",
        "    for i in range(len(sentence_words)):\n",
        "        if i < len(custom_suggestions):\n",
        "            custom_suggestion_display.append(custom_suggestions[i])  # Add the suggestions for display\n",
        "        else:\n",
        "            custom_suggestion_display.append([])  # No suggestions for this word\n",
        "\n",
        "    # Print Results\n",
        "    print(f\"Original Sentence: {sentence}\")\n",
        "    print(f\"FuzzyWuzzy Suggestions: {fuzzy_suggestions}\")\n",
        "    print(f\"FuzzyWuzzy Correction: {fuzzy_corrected}\")\n",
        "    print(f\"Custom Heuristic Suggestions: {custom_suggestion_display}\")  # Print the suggestions\n",
        "    print(f\"Custom Heuristic Correction: {corrected_string}\\n\")\n"
      ],
      "metadata": {
        "colab": {
          "base_uri": "https://localhost:8080/"
        },
        "id": "6q-5zYlhFL83",
        "outputId": "c193e9d4-9924-4049-9823-8a2b9f629756"
      },
      "execution_count": 42,
      "outputs": [
        {
          "output_type": "stream",
          "name": "stdout",
          "text": [
            "Original Sentence: The street is wde and busy.\n",
            "FuzzyWuzzy Suggestions: ['wide']\n",
            "FuzzyWuzzy Correction: The street is ide and busy.\n",
            "Custom Heuristic Suggestions: [['wide', 'area', 'light'], ['area', 'narrow', 'light'], ['wide', 'light', 'glad'], ['wide', 'area', 'glad'], ['glad', 'wide', 'area'], ['light', 'wide', 'glad']]\n",
            "Custom Heuristic Correction: wide area wide wide glad light\n",
            "\n",
            "Original Sentence: The path is narow and leads to the park.\n",
            "FuzzyWuzzy Suggestions: ['narrow']\n",
            "FuzzyWuzzy Correction: The path is aarow aad leads to the park.\n",
            "Custom Heuristic Suggestions: [['wide', 'area', 'light'], ['light', 'glad', 'area'], ['wide', 'light', 'glad'], ['narrow', 'area', 'wide'], ['glad', 'wide', 'area'], ['glad', 'wide', 'area'], ['wide', 'glad', 'area'], ['wide', 'area', 'light'], ['area', 'narrow', 'glad']]\n",
            "Custom Heuristic Correction: wide light wide narrow glad glad wide wide area\n",
            "\n",
            "Original Sentence: The open aria is filled with flowers.\n",
            "FuzzyWuzzy Suggestions: []\n",
            "FuzzyWuzzy Correction: The open aria is filled with flowers.\n",
            "Custom Heuristic Suggestions: [['wide', 'area', 'light'], ['area', 'wide', 'glad'], ['area', 'narrow', 'wide'], ['wide', 'light', 'glad'], ['wide', 'glad', 'light'], ['wide', 'light', 'glad'], ['narrow', 'wide', 'area']]\n",
            "Custom Heuristic Correction: wide area area wide wide wide narrow\n",
            "\n",
            "Original Sentence: The room is so laight and cheerful.\n",
            "FuzzyWuzzy Suggestions: ['light']\n",
            "FuzzyWuzzy Correction: The room is so iaight and cheerfui.\n",
            "Custom Heuristic Suggestions: [['wide', 'area', 'light'], ['narrow', 'area', 'wide'], ['wide', 'light', 'glad'], ['wide', 'glad', 'area'], ['light', 'glad', 'narrow'], ['glad', 'wide', 'area'], ['area', 'narrow', 'wide']]\n",
            "Custom Heuristic Correction: wide narrow wide wide light glad area\n",
            "\n",
            "Original Sentence: She was gld to see her friends.\n",
            "FuzzyWuzzy Suggestions: ['glad\\n']\n",
            "FuzzyWuzzy Correction: She was lld to see her friends.\n",
            "Custom Heuristic Suggestions: [['wide', 'area', 'light'], ['wide', 'glad', 'area'], ['glad', 'wide', 'light'], ['wide', 'glad', 'area'], ['wide', 'area', 'glad'], ['area', 'wide', 'glad'], ['wide', 'area', 'light']]\n",
            "Custom Heuristic Correction: wide wide glad wide wide area wide\n",
            "\n"
          ]
        }
      ]
    }
  ]
}